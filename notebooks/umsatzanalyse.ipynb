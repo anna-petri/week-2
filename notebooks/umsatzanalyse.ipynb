{
 "cells": [
  {
   "cell_type": "code",
   "execution_count": null,
   "id": "836737bd",
   "metadata": {
    "vscode": {
     "languageId": "plaintext"
    }
   },
   "outputs": [],
   "source": [
    "#  Bibliotheken importieren\n",
    "import pandas as pd\n",
    "import seaborn as sns\n",
    "import matplotlib.pyplot as plt\n",
    "\n",
    "#  CSV-Datei laden \n",
    "df = pd.read_csv(\"/workspaces/week-2/data/umsatzdaten_gekuerzt.csv\")\n",
    "\n",
    "#  Spalte 'Datum' in echtes Datum umwandeln\n",
    "df['Datum'] = pd.to_datetime(df['Datum'])\n",
    "\n",
    "#  Neuen Wert 'Wochentag' erzeugen (z. B. 'Monday', 'Tuesday', ...)\n",
    "df['Wochentag'] = df['Datum'].dt.day_name()\n"
   ]
  },
  {
   "cell_type": "code",
   "execution_count": null,
   "id": "9f809271",
   "metadata": {
    "vscode": {
     "languageId": "plaintext"
    }
   },
   "outputs": [],
   "source": [
    "#  Durchschnittlichen Umsatz pro Tag berechnen\n",
    "avg_sales = df.groupby('Wochentag')['Umsatz'].mean().reset_index()\n",
    "\n",
    "#  Balkendiagramm erzeugen\n",
    "plt.figure(figsize=(10, 5))\n",
    "sns.barplot(data=avg_sales, x='Wochentag', y='Umsatz')\n",
    "plt.title(\"Durchschnittlicher Umsatz pro Wochentag\")\n",
    "plt.xticks(rotation=45)\n",
    "plt.tight_layout()\n",
    "plt.show()"
   ]
  },
  {
   "cell_type": "code",
   "execution_count": null,
   "id": "309576b9",
   "metadata": {
    "vscode": {
     "languageId": "plaintext"
    }
   },
   "outputs": [],
   "source": [
    "#  Wochentage korrekt sortieren\n",
    "tage_sortiert = ['Monday', 'Tuesday', 'Wednesday', 'Thursday', 'Friday', 'Saturday', 'Sunday']\n",
    "df['Wochentag'] = pd.Categorical(df['Wochentag'], categories=tage_sortiert, ordered=True)\n",
    "\n",
    "#  Barplot mit Konfidenzintervallen (automatisch 95%)\n",
    "plt.figure(figsize=(10, 5))\n",
    "sns.barplot(data=df, x='Wochentag', y='Umsatz', ci=95)\n",
    "plt.title(\"Umsatz pro Wochentag mit 95% Konfidenzintervall\")\n",
    "plt.xticks(rotation=45)\n",
    "plt.tight_layout()\n",
    "plt.show()"
   ]
  }
 ],
 "metadata": {
  "language_info": {
   "name": "python"
  }
 },
 "nbformat": 4,
 "nbformat_minor": 5
}
